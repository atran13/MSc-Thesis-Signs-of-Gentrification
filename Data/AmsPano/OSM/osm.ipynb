{
 "cells": [
  {
   "cell_type": "code",
   "execution_count": 12,
   "metadata": {},
   "outputs": [],
   "source": [
    "import overpy\n",
    "from pprint import pprint\n",
    "from ipyleaflet import Map, Marker, Icon\n",
    "import pandas as pd"
   ]
  },
  {
   "cell_type": "code",
   "execution_count": 2,
   "metadata": {},
   "outputs": [],
   "source": [
    "api = overpy.Overpass()"
   ]
  },
  {
   "attachments": {},
   "cell_type": "markdown",
   "metadata": {},
   "source": [
    "# 1"
   ]
  },
  {
   "attachments": {},
   "cell_type": "markdown",
   "metadata": {},
   "source": [
    "#### Gentrified"
   ]
  },
  {
   "cell_type": "code",
   "execution_count": 3,
   "metadata": {},
   "outputs": [
    {
     "name": "stdout",
     "output_type": "stream",
     "text": [
      "611\n"
     ]
    }
   ],
   "source": [
    "res_gen = api.query(\"\"\"\n",
    "(\n",
    "    area[name=\"Amsterdam\"];\n",
    "    )->.city;\n",
    "\n",
    "(   \n",
    "    area[name=\"Jordaan\"](area.city);\n",
    "    area[name=\"Da Costabuurt\"](area.city);\n",
    "    area[name=\"Frederik Hendrikbuurt\"](area.city);\n",
    "    area[name=\"De Baarsjes\"](area.city);\n",
    "    area[name=\"Overtoomse Sluis\"](area.city);\n",
    "    area[name=\"Van Galenbuurt\"](area.city);\n",
    "    area[name=\"Westindische Buurt\"](area.city);\n",
    "    area[name=\"Hoofdweg\"](area.city);\n",
    "    )->.searchArea;\n",
    "\n",
    "(\n",
    "    node[\"shop\"](area.searchArea);\n",
    "    node[\"leisure\"~\"common|dance|fitness_centre|sports_centre\"](area.searchArea);\n",
    "    node[\"amenity\"~\"restaurant|food_court|fast_food|pub|cafe|bar|ice_cream|arts_centre|casino|cinema|community_centre|events_venue|exhibition_centre|music_venue|nightclub|social_centre|studio|theatre|pharmacy|social_facility\"](area.searchArea);\n",
    ");\n",
    "\n",
    "out body;\n",
    "\"\"\")\n",
    "\n",
    "print(len(res_gen.nodes))\n",
    "# for node in res_gen.nodes:\n",
    "#     print(\"Lat: %f, Lon: %f\" % (node.lat, node.lon))"
   ]
  },
  {
   "cell_type": "code",
   "execution_count": 4,
   "metadata": {},
   "outputs": [],
   "source": [
    "gen_poi = []\n",
    "for node in res_gen.nodes:\n",
    "    gen_poi.append([float(node.lat), float(node.lon)])\n",
    "# gen_poi[0:5]"
   ]
  },
  {
   "cell_type": "code",
   "execution_count": 7,
   "metadata": {},
   "outputs": [
    {
     "data": {
      "text/html": [
       "<div>\n",
       "<style scoped>\n",
       "    .dataframe tbody tr th:only-of-type {\n",
       "        vertical-align: middle;\n",
       "    }\n",
       "\n",
       "    .dataframe tbody tr th {\n",
       "        vertical-align: top;\n",
       "    }\n",
       "\n",
       "    .dataframe thead th {\n",
       "        text-align: right;\n",
       "    }\n",
       "</style>\n",
       "<table border=\"1\" class=\"dataframe\">\n",
       "  <thead>\n",
       "    <tr style=\"text-align: right;\">\n",
       "      <th></th>\n",
       "      <th>lat</th>\n",
       "      <th>lon</th>\n",
       "    </tr>\n",
       "  </thead>\n",
       "  <tbody>\n",
       "    <tr>\n",
       "      <th>0</th>\n",
       "      <td>52.364062</td>\n",
       "      <td>4.855153</td>\n",
       "    </tr>\n",
       "    <tr>\n",
       "      <th>1</th>\n",
       "      <td>52.378446</td>\n",
       "      <td>4.884454</td>\n",
       "    </tr>\n",
       "    <tr>\n",
       "      <th>2</th>\n",
       "      <td>52.369857</td>\n",
       "      <td>4.881981</td>\n",
       "    </tr>\n",
       "    <tr>\n",
       "      <th>3</th>\n",
       "      <td>52.368000</td>\n",
       "      <td>4.871000</td>\n",
       "    </tr>\n",
       "    <tr>\n",
       "      <th>4</th>\n",
       "      <td>52.375036</td>\n",
       "      <td>4.881341</td>\n",
       "    </tr>\n",
       "    <tr>\n",
       "      <th>...</th>\n",
       "      <td>...</td>\n",
       "      <td>...</td>\n",
       "    </tr>\n",
       "    <tr>\n",
       "      <th>606</th>\n",
       "      <td>52.373322</td>\n",
       "      <td>4.880995</td>\n",
       "    </tr>\n",
       "    <tr>\n",
       "      <th>607</th>\n",
       "      <td>52.373308</td>\n",
       "      <td>4.880921</td>\n",
       "    </tr>\n",
       "    <tr>\n",
       "      <th>608</th>\n",
       "      <td>52.380095</td>\n",
       "      <td>4.887279</td>\n",
       "    </tr>\n",
       "    <tr>\n",
       "      <th>609</th>\n",
       "      <td>52.380139</td>\n",
       "      <td>4.887533</td>\n",
       "    </tr>\n",
       "    <tr>\n",
       "      <th>610</th>\n",
       "      <td>52.370056</td>\n",
       "      <td>4.877716</td>\n",
       "    </tr>\n",
       "  </tbody>\n",
       "</table>\n",
       "<p>611 rows × 2 columns</p>\n",
       "</div>"
      ],
      "text/plain": [
       "           lat       lon\n",
       "0    52.364062  4.855153\n",
       "1    52.378446  4.884454\n",
       "2    52.369857  4.881981\n",
       "3    52.368000  4.871000\n",
       "4    52.375036  4.881341\n",
       "..         ...       ...\n",
       "606  52.373322  4.880995\n",
       "607  52.373308  4.880921\n",
       "608  52.380095  4.887279\n",
       "609  52.380139  4.887533\n",
       "610  52.370056  4.877716\n",
       "\n",
       "[611 rows x 2 columns]"
      ]
     },
     "execution_count": 7,
     "metadata": {},
     "output_type": "execute_result"
    }
   ],
   "source": [
    "df_gen = pd.DataFrame.from_records(gen_poi, columns=(\"lat\",\"lon\"))\n",
    "# df_gen.to_csv('gentrified.csv', index=False)\n",
    "df_gen"
   ]
  },
  {
   "cell_type": "code",
   "execution_count": 15,
   "metadata": {},
   "outputs": [],
   "source": [
    "# def handle_click(**kwargs):\n",
    "#     if kwargs.get('type') == 'click':\n",
    "#         centroid = kwargs.get('coordinates')\n",
    "#         icon = Icon(icon_url=\"https://static.vecteezy.com/system/resources/previews/013/760/669/original/map-location-pin-icon-in-red-colors-png.png\")\n",
    "#         m.add_layer(Marker(location=centroid, icon=icon))\n",
    "#         print(centroid)"
   ]
  },
  {
   "cell_type": "code",
   "execution_count": 17,
   "metadata": {},
   "outputs": [
    {
     "data": {
      "application/vnd.jupyter.widget-view+json": {
       "model_id": "79219f21a72647ab9ed1087ea353cf71",
       "version_major": 2,
       "version_minor": 0
      },
      "text/plain": [
       "Map(center=[52.362609, 4.889516], controls=(ZoomControl(options=['position', 'zoom_in_text', 'zoom_in_title', …"
      ]
     },
     "metadata": {},
     "output_type": "display_data"
    }
   ],
   "source": [
    "m = Map(center=(52.362609, 4.889516), zoom=13)\n",
    "for point in gen_poi:\n",
    "    marker = Marker(location=point, draggable=False)\n",
    "    m.add_layer(marker)\n",
    "# m.on_interaction(handle_click)\n",
    "m"
   ]
  },
  {
   "attachments": {},
   "cell_type": "markdown",
   "metadata": {},
   "source": [
    "#### Non-gentrified"
   ]
  },
  {
   "cell_type": "code",
   "execution_count": 11,
   "metadata": {},
   "outputs": [
    {
     "name": "stdout",
     "output_type": "stream",
     "text": [
      "494\n"
     ]
    }
   ],
   "source": [
    "res_nongen = api.query(\"\"\"\n",
    "(\n",
    "  area[name=\"Amsterdam\"];\n",
    "  )->.city;\n",
    "\n",
    "(\n",
    "  area[name=\"Ganzenhoef\"](area.city);\n",
    "  area[name=\"De Kameleon\"](area.city);\n",
    "  area[name=\"Boodschappencentrum Holendrecht\"](area.city);\n",
    "  area[name=\"Winkelcentrum Reigersbos\"](area.city);\n",
    "  area[name=\"Sierplein\"](area.city);\n",
    "  area[name=\"Akerpoort\"](area.city);\n",
    "  area[name=\"winkelcentrum Dukaat\"](area.city);\n",
    "  way(256716733);\n",
    "  way(265775621);\n",
    "  way(63634709);\n",
    "  way(63634710);\n",
    "  way(26452871);way(26452870);\n",
    "  way(62818980);way(62818978);\n",
    "  way(46255335);\n",
    "  )->.searchArea;\n",
    "\n",
    "(\n",
    "  node[\"shop\"](area.searchArea);\n",
    "  node[\"leisure\"~\"common|dance|fitness_centre|sports_centre\"](area.searchArea);\n",
    "  node[\"amenity\"~\"restaurant|food_court|fast_food|pub|cafe|bar|ice_cream|arts_centre|casino|cinema|community_centre|events_venue|exhibition_centre|music_venue|nightclub|social_centre|studio|theatre|pharmacy|social_facility\"](area.searchArea);\n",
    ");\n",
    "\n",
    "out body;\n",
    "\n",
    "\"\"\")\n",
    "\n",
    "print(len(res_nongen.nodes))\n",
    "# for node in res_nongen.nodes:\n",
    "#     print(\"Lat: %f, Lon: %f\" % (node.lat, node.lon))"
   ]
  },
  {
   "cell_type": "code",
   "execution_count": 12,
   "metadata": {},
   "outputs": [
    {
     "data": {
      "text/plain": [
       "[[52.3549932, 4.8267734],\n",
       " [52.3497202, 4.786632],\n",
       " [52.3370141, 4.7813839],\n",
       " [52.3584417, 4.8276799],\n",
       " [52.3585173, 4.8268358]]"
      ]
     },
     "execution_count": 12,
     "metadata": {},
     "output_type": "execute_result"
    }
   ],
   "source": [
    "nongen_poi = []\n",
    "for node in res_nongen.nodes:\n",
    "    nongen_poi.append([float(node.lat), float(node.lon)])\n",
    "nongen_poi[0:5]"
   ]
  },
  {
   "cell_type": "code",
   "execution_count": 13,
   "metadata": {},
   "outputs": [
    {
     "data": {
      "text/html": [
       "<div>\n",
       "<style scoped>\n",
       "    .dataframe tbody tr th:only-of-type {\n",
       "        vertical-align: middle;\n",
       "    }\n",
       "\n",
       "    .dataframe tbody tr th {\n",
       "        vertical-align: top;\n",
       "    }\n",
       "\n",
       "    .dataframe thead th {\n",
       "        text-align: right;\n",
       "    }\n",
       "</style>\n",
       "<table border=\"1\" class=\"dataframe\">\n",
       "  <thead>\n",
       "    <tr style=\"text-align: right;\">\n",
       "      <th></th>\n",
       "      <th>lat</th>\n",
       "      <th>lon</th>\n",
       "    </tr>\n",
       "  </thead>\n",
       "  <tbody>\n",
       "    <tr>\n",
       "      <th>0</th>\n",
       "      <td>52.354993</td>\n",
       "      <td>4.826773</td>\n",
       "    </tr>\n",
       "    <tr>\n",
       "      <th>1</th>\n",
       "      <td>52.349720</td>\n",
       "      <td>4.786632</td>\n",
       "    </tr>\n",
       "    <tr>\n",
       "      <th>2</th>\n",
       "      <td>52.337014</td>\n",
       "      <td>4.781384</td>\n",
       "    </tr>\n",
       "    <tr>\n",
       "      <th>3</th>\n",
       "      <td>52.358442</td>\n",
       "      <td>4.827680</td>\n",
       "    </tr>\n",
       "    <tr>\n",
       "      <th>4</th>\n",
       "      <td>52.358517</td>\n",
       "      <td>4.826836</td>\n",
       "    </tr>\n",
       "    <tr>\n",
       "      <th>...</th>\n",
       "      <td>...</td>\n",
       "      <td>...</td>\n",
       "    </tr>\n",
       "    <tr>\n",
       "      <th>489</th>\n",
       "      <td>52.359383</td>\n",
       "      <td>4.805959</td>\n",
       "    </tr>\n",
       "    <tr>\n",
       "      <th>490</th>\n",
       "      <td>52.377980</td>\n",
       "      <td>4.801517</td>\n",
       "    </tr>\n",
       "    <tr>\n",
       "      <th>491</th>\n",
       "      <td>52.357773</td>\n",
       "      <td>4.805365</td>\n",
       "    </tr>\n",
       "    <tr>\n",
       "      <th>492</th>\n",
       "      <td>52.316431</td>\n",
       "      <td>4.978937</td>\n",
       "    </tr>\n",
       "    <tr>\n",
       "      <th>493</th>\n",
       "      <td>52.316376</td>\n",
       "      <td>4.978983</td>\n",
       "    </tr>\n",
       "  </tbody>\n",
       "</table>\n",
       "<p>494 rows × 2 columns</p>\n",
       "</div>"
      ],
      "text/plain": [
       "           lat       lon\n",
       "0    52.354993  4.826773\n",
       "1    52.349720  4.786632\n",
       "2    52.337014  4.781384\n",
       "3    52.358442  4.827680\n",
       "4    52.358517  4.826836\n",
       "..         ...       ...\n",
       "489  52.359383  4.805959\n",
       "490  52.377980  4.801517\n",
       "491  52.357773  4.805365\n",
       "492  52.316431  4.978937\n",
       "493  52.316376  4.978983\n",
       "\n",
       "[494 rows x 2 columns]"
      ]
     },
     "execution_count": 13,
     "metadata": {},
     "output_type": "execute_result"
    }
   ],
   "source": [
    "df_nongen = pd.DataFrame.from_records(nongen_poi, columns=(\"lat\",\"lon\"))\n",
    "df_nongen"
   ]
  },
  {
   "cell_type": "code",
   "execution_count": 15,
   "metadata": {},
   "outputs": [],
   "source": [
    "df_nongen.to_csv('non-gentrified.csv', index=False)"
   ]
  },
  {
   "cell_type": "code",
   "execution_count": 14,
   "metadata": {},
   "outputs": [
    {
     "data": {
      "application/vnd.jupyter.widget-view+json": {
       "model_id": "358b0b8b4553426f81c14a9fab412460",
       "version_major": 2,
       "version_minor": 0
      },
      "text/plain": [
       "Map(center=[52.362609, 4.889516], controls=(ZoomControl(options=['position', 'zoom_in_text', 'zoom_in_title', …"
      ]
     },
     "metadata": {},
     "output_type": "display_data"
    }
   ],
   "source": [
    "m = Map(center=(52.362609, 4.889516), zoom=12)\n",
    "for point in nongen_poi:\n",
    "    marker = Marker(location=point, draggable=False)\n",
    "    m.add_layer(marker)\n",
    "m"
   ]
  }
 ],
 "metadata": {
  "kernelspec": {
   "display_name": "base",
   "language": "python",
   "name": "python3"
  },
  "language_info": {
   "codemirror_mode": {
    "name": "ipython",
    "version": 3
   },
   "file_extension": ".py",
   "mimetype": "text/x-python",
   "name": "python",
   "nbconvert_exporter": "python",
   "pygments_lexer": "ipython3",
   "version": "3.9.12"
  },
  "orig_nbformat": 4
 },
 "nbformat": 4,
 "nbformat_minor": 2
}
